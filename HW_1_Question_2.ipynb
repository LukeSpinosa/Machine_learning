{
  "nbformat": 4,
  "nbformat_minor": 0,
  "metadata": {
    "colab": {
      "provenance": [],
      "authorship_tag": "ABX9TyP9W7FrgwlqHEtPam5St3eg",
      "include_colab_link": true
    },
    "kernelspec": {
      "name": "python3",
      "display_name": "Python 3"
    },
    "language_info": {
      "name": "python"
    }
  },
  "cells": [
    {
      "cell_type": "markdown",
      "metadata": {
        "id": "view-in-github",
        "colab_type": "text"
      },
      "source": [
        "<a href=\"https://colab.research.google.com/github/LukeSpinosa/Machine_learning/blob/main/HW_1_Question_2.ipynb\" target=\"_parent\"><img src=\"https://colab.research.google.com/assets/colab-badge.svg\" alt=\"Open In Colab\"/></a>"
      ]
    },
    {
      "cell_type": "code",
      "source": [
        "# Question #2\n",
        "# You can repetativly run this using the 2 different methods while they remain\n",
        "# consistantly equal proving the 2 methods produce the same output\n",
        "import torch\n",
        "\n",
        "def ex2_transform(w, x, b, method='affine'):\n",
        "    if method == 'affine':\n",
        "        result = torch.mm(x.T, w) + b\n",
        "    else:\n",
        "        ones_row = torch.ones(1, x.shape[1])\n",
        "        x_extended = torch.cat((x, ones_row), 0)\n",
        "        w_extended = torch.cat((w, torch.tensor([[b]])), 0)\n",
        "\n",
        "        result = torch.mm(x_extended.T, w_extended)\n",
        "\n",
        "    print(f\"result_by_{method}:\\n\", result)\n",
        "    return result\n",
        "\n",
        "w = torch.tensor([[1.], [2.], [3.], [4.]])  # weight mat\n",
        "x = torch.randn(4, 5)  # input mat\n",
        "b = 3.  # bias term\n",
        "\n",
        "k = 1 # Just keeping track of the loops\n",
        "while k < 5:\n",
        "    print(f\"Test # {k}\")\n",
        "    affine_method = ex2_transform(w, x, b, 'affine')\n",
        "    linear_method = ex2_transform(w, x, b, 'linear')\n",
        "    if torch.all(affine_method.eq(linear_method)):\n",
        "        print(\"EQUAL\")\n",
        "    else:\n",
        "        print(\"NOT equal\")\n",
        "    print(\"-------------------------\")\n",
        "    k = k + 1"
      ],
      "metadata": {
        "colab": {
          "base_uri": "https://localhost:8080/"
        },
        "id": "XuSGVMdBdJJZ",
        "outputId": "9ff1cf2d-0951-4178-8439-813fceed5c3d"
      },
      "execution_count": 3,
      "outputs": [
        {
          "output_type": "stream",
          "name": "stdout",
          "text": [
            "Test # 1\n",
            "result_by_affine:\n",
            " tensor([[11.1281],\n",
            "        [ 2.6149],\n",
            "        [-4.7311],\n",
            "        [ 5.1141],\n",
            "        [-3.4300]])\n",
            "result_by_linear:\n",
            " tensor([[11.1281],\n",
            "        [ 2.6149],\n",
            "        [-4.7311],\n",
            "        [ 5.1141],\n",
            "        [-3.4300]])\n",
            "EQUAL\n",
            "-------------------------\n",
            "Test # 2\n",
            "result_by_affine:\n",
            " tensor([[11.1281],\n",
            "        [ 2.6149],\n",
            "        [-4.7311],\n",
            "        [ 5.1141],\n",
            "        [-3.4300]])\n",
            "result_by_linear:\n",
            " tensor([[11.1281],\n",
            "        [ 2.6149],\n",
            "        [-4.7311],\n",
            "        [ 5.1141],\n",
            "        [-3.4300]])\n",
            "EQUAL\n",
            "-------------------------\n",
            "Test # 3\n",
            "result_by_affine:\n",
            " tensor([[11.1281],\n",
            "        [ 2.6149],\n",
            "        [-4.7311],\n",
            "        [ 5.1141],\n",
            "        [-3.4300]])\n",
            "result_by_linear:\n",
            " tensor([[11.1281],\n",
            "        [ 2.6149],\n",
            "        [-4.7311],\n",
            "        [ 5.1141],\n",
            "        [-3.4300]])\n",
            "EQUAL\n",
            "-------------------------\n",
            "Test # 4\n",
            "result_by_affine:\n",
            " tensor([[11.1281],\n",
            "        [ 2.6149],\n",
            "        [-4.7311],\n",
            "        [ 5.1141],\n",
            "        [-3.4300]])\n",
            "result_by_linear:\n",
            " tensor([[11.1281],\n",
            "        [ 2.6149],\n",
            "        [-4.7311],\n",
            "        [ 5.1141],\n",
            "        [-3.4300]])\n",
            "EQUAL\n",
            "-------------------------\n"
          ]
        }
      ]
    }
  ]
}